{
 "cells": [
  {
   "cell_type": "markdown",
   "metadata": {},
   "source": [
    "# Leaflet cluster map of talk locations\n",
    "\n",
    "Run this from the _talks/ directory, which contains .md files of all your talks. This scrapes the location YAML field from each .md file, geolocates it with geopy/Nominatim, and uses the getorg library to output data, HTML, and Javascript for a standalone cluster map."
   ]
  },
  {
   "cell_type": "code",
   "execution_count": 1,
   "metadata": {
    "collapsed": false
   },
   "outputs": [
    {
     "name": "stdout",
     "output_type": "stream",
     "text": [
      "Requirement already satisfied: getorg in /Users/sungchih/miniforge3/lib/python3.9/site-packages (0.3.1)\n",
      "Requirement already satisfied: geopy in /Users/sungchih/miniforge3/lib/python3.9/site-packages (from getorg) (2.2.0)\n",
      "Requirement already satisfied: pygithub in /Users/sungchih/miniforge3/lib/python3.9/site-packages (from getorg) (1.55)\n",
      "Requirement already satisfied: retrying in /Users/sungchih/miniforge3/lib/python3.9/site-packages (from getorg) (1.3.3)\n",
      "Requirement already satisfied: geographiclib<2,>=1.49 in /Users/sungchih/miniforge3/lib/python3.9/site-packages (from geopy->getorg) (1.52)\n",
      "Requirement already satisfied: pyjwt>=2.0 in /Users/sungchih/miniforge3/lib/python3.9/site-packages (from pygithub->getorg) (2.5.0)\n",
      "Requirement already satisfied: pynacl>=1.4.0 in /Users/sungchih/miniforge3/lib/python3.9/site-packages (from pygithub->getorg) (1.5.0)\n",
      "Requirement already satisfied: requests>=2.14.0 in /Users/sungchih/miniforge3/lib/python3.9/site-packages (from pygithub->getorg) (2.28.1)\n",
      "Requirement already satisfied: deprecated in /Users/sungchih/miniforge3/lib/python3.9/site-packages (from pygithub->getorg) (1.2.13)\n",
      "Requirement already satisfied: six>=1.7.0 in /Users/sungchih/miniforge3/lib/python3.9/site-packages (from retrying->getorg) (1.16.0)\n",
      "Requirement already satisfied: cffi>=1.4.1 in /Users/sungchih/miniforge3/lib/python3.9/site-packages (from pynacl>=1.4.0->pygithub->getorg) (1.15.1)\n",
      "Requirement already satisfied: charset-normalizer<3,>=2 in /Users/sungchih/miniforge3/lib/python3.9/site-packages (from requests>=2.14.0->pygithub->getorg) (2.1.1)\n",
      "Requirement already satisfied: certifi>=2017.4.17 in /Users/sungchih/miniforge3/lib/python3.9/site-packages (from requests>=2.14.0->pygithub->getorg) (2022.9.24)\n",
      "Requirement already satisfied: urllib3<1.27,>=1.21.1 in /Users/sungchih/miniforge3/lib/python3.9/site-packages (from requests>=2.14.0->pygithub->getorg) (1.26.11)\n",
      "Requirement already satisfied: idna<4,>=2.5 in /Users/sungchih/miniforge3/lib/python3.9/site-packages (from requests>=2.14.0->pygithub->getorg) (3.4)\n",
      "Requirement already satisfied: wrapt<2,>=1.10 in /Users/sungchih/miniforge3/lib/python3.9/site-packages (from deprecated->pygithub->getorg) (1.14.1)\n",
      "Requirement already satisfied: pycparser in /Users/sungchih/miniforge3/lib/python3.9/site-packages (from cffi>=1.4.1->pynacl>=1.4.0->pygithub->getorg) (2.21)\n",
      "Note: you may need to restart the kernel to use updated packages.\n",
      "IPywidgets and ipyleaflet support enabled.\n"
     ]
    }
   ],
   "source": [
    "%pip install getorg --upgrade\n",
    "import glob\n",
    "import getorg\n",
    "from geopy import Nominatim"
   ]
  },
  {
   "cell_type": "code",
   "execution_count": 2,
   "metadata": {
    "collapsed": false
   },
   "outputs": [],
   "source": [
    "g = glob.glob(\"*.md\")"
   ]
  },
  {
   "cell_type": "code",
   "execution_count": 3,
   "metadata": {
    "collapsed": true
   },
   "outputs": [],
   "source": [
    "geocoder = Nominatim(user_agent=\"https://chihli.github.io/\")\n",
    "location_dict = {}\n",
    "location = \"\"\n",
    "permalink = \"\"\n",
    "title = \"\""
   ]
  },
  {
   "cell_type": "code",
   "execution_count": 4,
   "metadata": {
    "collapsed": false
   },
   "outputs": [
    {
     "name": "stdout",
     "output_type": "stream",
     "text": [
      "Taichung, Taiwan \n",
      " 臺中市, 臺灣\n",
      "Taipei, Taiwan \n",
      " 臺北市, 臺灣\n",
      "Taipei, Taiwan \n",
      " 臺北市, 臺灣\n",
      "Grand Rapids, MI \n",
      " Grand Rapids, Kent County, Michigan, United States\n",
      "Baltimore, MD \n",
      " Baltimore, Maryland, United States\n",
      "Garden Grove, California \n",
      " Garden Grove, Orange County, CAL Fire Southern Region, California, United States\n",
      "Atlanta, Georgia \n",
      " Atlanta, Fulton County, Georgia, 30303, United States\n",
      "Seoul, South Korea \n",
      " 서울, 대한민국\n",
      "Atlanta, GA \n",
      " Atlanta, Fulton County, Georgia, 30303, United States\n",
      "Washington DC \n",
      " Washington, District of Columbia, United States\n",
      "Houston, TX \n",
      " Houston, Harris County, Texas, United States\n",
      "Taichung, Taiwan \n",
      " 臺中市, 臺灣\n",
      "East Lansing, MI \n",
      " East Lansing, Ingham County, Michigan, United States\n",
      "White Plains, NY \n",
      " City of White Plains, Westchester County, New York, United States\n",
      "Phoenix, AZ \n",
      " Phoenix, Maricopa County, Arizona, United States\n",
      "Atlanta, GA \n",
      " Atlanta, Fulton County, Georgia, 30303, United States\n",
      "Chicago, IL \n",
      " Chicago, Cook County, Illinois, United States\n",
      "Atlanta, GA \n",
      " Atlanta, Fulton County, Georgia, 30303, United States\n",
      "Seattle, WA \n",
      " Seattle, King County, Washington, United States\n",
      "Hsinchu, Taiwan \n",
      " 新竹市, 臺灣省, 臺灣\n",
      "Greensboro, North Carolina \n",
      " Greensboro, Guilford County, North Carolina, United States\n",
      "Los Angeles, CA \n",
      " Los Angeles, Los Angeles County, CAL Fire Contract Counties, California, United States\n",
      "West Lafayette, IN \n",
      " West Lafayette, Tippecanoe County, Indiana, United States\n",
      "Hsinchu, Taiwan \n",
      " 新竹市, 臺灣省, 臺灣\n",
      "Taipei, Taiwan \n",
      " 臺北市, 臺灣\n"
     ]
    }
   ],
   "source": [
    "\n",
    "for file in g:\n",
    "    with open(file, 'r') as f:\n",
    "        lines = f.read()\n",
    "        if lines.find('location: \"') > 1:\n",
    "            loc_start = lines.find('location: \"') + 11\n",
    "            lines_trim = lines[loc_start:]\n",
    "            loc_end = lines_trim.find('\"')\n",
    "            location = lines_trim[:loc_end]\n",
    "                            \n",
    "        if(location!=\"Virtual\"):   \n",
    "            location_dict[location] = geocoder.geocode(location)\n",
    "            print(location, \"\\n\", location_dict[location])\n"
   ]
  },
  {
   "cell_type": "code",
   "execution_count": 5,
   "metadata": {
    "collapsed": false
   },
   "outputs": [
    {
     "data": {
      "text/plain": [
       "'Written map to ../talkmap/'"
      ]
     },
     "execution_count": 5,
     "metadata": {},
     "output_type": "execute_result"
    }
   ],
   "source": [
    "m = getorg.orgmap.create_map_obj()\n",
    "getorg.orgmap.output_html_cluster_map(location_dict, folder_name=\"../talkmap\", hashed_usernames=False)"
   ]
  }
 ],
 "metadata": {
  "anaconda-cloud": {},
  "kernelspec": {
   "display_name": "Python 3.9.13 ('base')",
   "language": "python",
   "name": "python3"
  },
  "language_info": {
   "codemirror_mode": {
    "name": "ipython",
    "version": 3
   },
   "file_extension": ".py",
   "mimetype": "text/x-python",
   "name": "python",
   "nbconvert_exporter": "python",
   "pygments_lexer": "ipython3",
   "version": "3.9.13"
  },
  "vscode": {
   "interpreter": {
    "hash": "3f08f5d9ba437bcc601ab53f306b658b862665232fc34b25cfaf47d2fd5695c0"
   }
  }
 },
 "nbformat": 4,
 "nbformat_minor": 0
}
