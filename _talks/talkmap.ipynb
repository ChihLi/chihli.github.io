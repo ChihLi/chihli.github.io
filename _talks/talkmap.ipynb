{
 "cells": [
  {
   "cell_type": "markdown",
   "metadata": {},
   "source": [
    "# Leaflet cluster map of talk locations\n",
    "\n",
    "Run this from the _talks/ directory, which contains .md files of all your talks. This scrapes the location YAML field from each .md file, geolocates it with geopy/Nominatim, and uses the getorg library to output data, HTML, and Javascript for a standalone cluster map."
   ]
  },
  {
   "cell_type": "code",
   "execution_count": 1,
   "metadata": {
    "collapsed": false
   },
   "outputs": [
    {
     "name": "stdout",
     "output_type": "stream",
     "text": [
      "Requirement already satisfied: getorg in /Users/sungchih/miniforge3/lib/python3.9/site-packages (0.3.1)\n",
      "Requirement already satisfied: geopy in /Users/sungchih/miniforge3/lib/python3.9/site-packages (from getorg) (2.2.0)\n",
      "Requirement already satisfied: retrying in /Users/sungchih/miniforge3/lib/python3.9/site-packages (from getorg) (1.3.3)\n",
      "Requirement already satisfied: pygithub in /Users/sungchih/miniforge3/lib/python3.9/site-packages (from getorg) (1.55)\n",
      "Requirement already satisfied: geographiclib<2,>=1.49 in /Users/sungchih/miniforge3/lib/python3.9/site-packages (from geopy->getorg) (1.52)\n",
      "Requirement already satisfied: requests>=2.14.0 in /Users/sungchih/miniforge3/lib/python3.9/site-packages (from pygithub->getorg) (2.28.1)\n",
      "Requirement already satisfied: pynacl>=1.4.0 in /Users/sungchih/miniforge3/lib/python3.9/site-packages (from pygithub->getorg) (1.5.0)\n",
      "Requirement already satisfied: deprecated in /Users/sungchih/miniforge3/lib/python3.9/site-packages (from pygithub->getorg) (1.2.13)\n",
      "Requirement already satisfied: pyjwt>=2.0 in /Users/sungchih/miniforge3/lib/python3.9/site-packages (from pygithub->getorg) (2.5.0)\n",
      "Requirement already satisfied: six>=1.7.0 in /Users/sungchih/miniforge3/lib/python3.9/site-packages (from retrying->getorg) (1.16.0)\n",
      "Requirement already satisfied: cffi>=1.4.1 in /Users/sungchih/miniforge3/lib/python3.9/site-packages (from pynacl>=1.4.0->pygithub->getorg) (1.15.1)\n",
      "Requirement already satisfied: charset-normalizer<3,>=2 in /Users/sungchih/miniforge3/lib/python3.9/site-packages (from requests>=2.14.0->pygithub->getorg) (2.1.1)\n",
      "Requirement already satisfied: urllib3<1.27,>=1.21.1 in /Users/sungchih/miniforge3/lib/python3.9/site-packages (from requests>=2.14.0->pygithub->getorg) (1.26.11)\n",
      "Requirement already satisfied: certifi>=2017.4.17 in /Users/sungchih/miniforge3/lib/python3.9/site-packages (from requests>=2.14.0->pygithub->getorg) (2022.9.24)\n",
      "Requirement already satisfied: idna<4,>=2.5 in /Users/sungchih/miniforge3/lib/python3.9/site-packages (from requests>=2.14.0->pygithub->getorg) (3.4)\n",
      "Requirement already satisfied: wrapt<2,>=1.10 in /Users/sungchih/miniforge3/lib/python3.9/site-packages (from deprecated->pygithub->getorg) (1.14.1)\n",
      "Requirement already satisfied: pycparser in /Users/sungchih/miniforge3/lib/python3.9/site-packages (from cffi>=1.4.1->pynacl>=1.4.0->pygithub->getorg) (2.21)\n",
      "Note: you may need to restart the kernel to use updated packages.\n",
      "IPywidgets and ipyleaflet support enabled.\n"
     ]
    }
   ],
   "source": [
    "%pip install getorg --upgrade\n",
    "import glob\n",
    "import getorg\n",
    "from geopy import Nominatim"
   ]
  },
  {
   "cell_type": "code",
   "execution_count": 2,
   "metadata": {
    "collapsed": false
   },
   "outputs": [],
   "source": [
    "g = glob.glob(\"*.md\")"
   ]
  },
  {
   "cell_type": "code",
   "execution_count": 6,
   "metadata": {
    "collapsed": true
   },
   "outputs": [],
   "source": [
    "geocoder = Nominatim(user_agent=\"https://chihli.github.io/\")\n",
    "location_dict = {}\n",
    "location = \"\"\n",
    "permalink = \"\"\n",
    "title = \"\""
   ]
  },
  {
   "cell_type": "code",
   "execution_count": 17,
   "metadata": {
    "collapsed": false
   },
   "outputs": [
    {
     "name": "stdout",
     "output_type": "stream",
     "text": [
      "virtual \n",
      " Virtual, 6, Via Giuseppe Massarenti, Cirenaica, San Donato-San Vitale, Bologna, Emilia-Romagna, 40138, Italia\n"
     ]
    }
   ],
   "source": [
    "\n",
    "for file in g:\n",
    "    with open(file, 'r') as f:\n",
    "        lines = f.read()\n",
    "        if lines.find('location: \"') > 1:\n",
    "            loc_start = lines.find('location: \"') + 11\n",
    "            lines_trim = lines[loc_start:]\n",
    "            loc_end = lines_trim.find('\"')\n",
    "            location = lines_trim[:loc_end]\n",
    "                            \n",
    "        if(location!=\"virtual\"):   \n",
    "            location_dict[location] = geocoder.geocode(location)\n",
    "            print(location, \"\\n\", location_dict[location])\n"
   ]
  },
  {
   "cell_type": "code",
   "execution_count": 20,
   "metadata": {},
   "outputs": [
    {
     "data": {
      "text/plain": [
       "{'Greensboro, North Carolina': Location(Greensboro, Guilford County, North Carolina, United States, (36.0726355, -79.7919754, 0.0)),\n",
       " 'virtual': Location(Virtual, 6, Via Giuseppe Massarenti, Cirenaica, San Donato-San Vitale, Bologna, Emilia-Romagna, 40138, Italia, (44.4939936, 11.3576917, 0.0))}"
      ]
     },
     "execution_count": 20,
     "metadata": {},
     "output_type": "execute_result"
    }
   ],
   "source": [
    "location\n",
    "location_dict"
   ]
  },
  {
   "cell_type": "code",
   "execution_count": 19,
   "metadata": {
    "collapsed": false
   },
   "outputs": [
    {
     "data": {
      "text/plain": [
       "'Written map to ../talkmap/'"
      ]
     },
     "execution_count": 19,
     "metadata": {},
     "output_type": "execute_result"
    }
   ],
   "source": [
    "m = getorg.orgmap.create_map_obj()\n",
    "getorg.orgmap.output_html_cluster_map(location_dict, folder_name=\"../talkmap\", hashed_usernames=False)"
   ]
  },
  {
   "cell_type": "code",
   "execution_count": null,
   "metadata": {
    "collapsed": true
   },
   "outputs": [],
   "source": []
  }
 ],
 "metadata": {
  "anaconda-cloud": {},
  "kernelspec": {
   "display_name": "Python 3.9.13 ('base')",
   "language": "python",
   "name": "python3"
  },
  "language_info": {
   "codemirror_mode": {
    "name": "ipython",
    "version": 3
   },
   "file_extension": ".py",
   "mimetype": "text/x-python",
   "name": "python",
   "nbconvert_exporter": "python",
   "pygments_lexer": "ipython3",
   "version": "3.9.13"
  },
  "vscode": {
   "interpreter": {
    "hash": "3f08f5d9ba437bcc601ab53f306b658b862665232fc34b25cfaf47d2fd5695c0"
   }
  }
 },
 "nbformat": 4,
 "nbformat_minor": 0
}
